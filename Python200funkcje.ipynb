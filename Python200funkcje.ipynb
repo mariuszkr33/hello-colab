{
  "nbformat": 4,
  "nbformat_minor": 0,
  "metadata": {
    "colab": {
      "name": "Python200funkcje.ipynb",
      "provenance": [],
      "collapsed_sections": [],
      "authorship_tag": "ABX9TyNWhapfjia9WVsg0NHmR+5C",
      "include_colab_link": true
    },
    "kernelspec": {
      "name": "python3",
      "display_name": "Python 3"
    }
  },
  "cells": [
    {
      "cell_type": "markdown",
      "metadata": {
        "id": "view-in-github",
        "colab_type": "text"
      },
      "source": [
        "<a href=\"https://colab.research.google.com/github/mariuszkr33/hello-colab/blob/master/Python200funkcje.ipynb\" target=\"_parent\"><img src=\"https://colab.research.google.com/assets/colab-badge.svg\" alt=\"Open In Colab\"/></a>"
      ]
    },
    {
      "cell_type": "code",
      "metadata": {
        "id": "L_WrIhyycuI3",
        "colab_type": "code",
        "colab": {}
      },
      "source": [
        "x = -1.5\n",
        "expression = 'x**2 + x'\n"
      ],
      "execution_count": null,
      "outputs": []
    },
    {
      "cell_type": "code",
      "metadata": {
        "id": "Obb7x9P_dKoq",
        "colab_type": "code",
        "colab": {
          "base_uri": "https://localhost:8080/",
          "height": 34
        },
        "outputId": "53733e4b-a552-4292-89f3-d8b18aa0f4db"
      },
      "source": [
        "eval(expression)"
      ],
      "execution_count": null,
      "outputs": [
        {
          "output_type": "execute_result",
          "data": {
            "text/plain": [
              "0.75"
            ]
          },
          "metadata": {
            "tags": []
          },
          "execution_count": 3
        }
      ]
    },
    {
      "cell_type": "code",
      "metadata": {
        "id": "MvFMWLlsdNLy",
        "colab_type": "code",
        "colab": {
          "base_uri": "https://localhost:8080/",
          "height": 102
        },
        "outputId": "03fec49e-64ca-4a23-d020-df1e28fc0f24"
      },
      "source": [
        "var1 = 'Python'\n",
        "var2 = ('Python')\n",
        "var3 = ('Python',)\n",
        "var4 = ['Python']\n",
        "var5 = {'Python'}\n",
        "\n",
        "print(isinstance(var1,tuple))\n",
        "print(isinstance(var2,tuple))\n",
        "print(isinstance(var3,tuple))\n",
        "print(isinstance(var4,tuple))\n",
        "print(isinstance(var5,tuple))\n",
        "\n"
      ],
      "execution_count": null,
      "outputs": [
        {
          "output_type": "stream",
          "text": [
            "False\n",
            "False\n",
            "True\n",
            "False\n",
            "False\n"
          ],
          "name": "stdout"
        }
      ]
    },
    {
      "cell_type": "code",
      "metadata": {
        "id": "OICcgd1Cdmgi",
        "colab_type": "code",
        "colab": {
          "base_uri": "https://localhost:8080/",
          "height": 51
        },
        "outputId": "8a9ce0ee-45e2-40ba-d90d-304bc33c304b"
      },
      "source": [
        "characters = ['k', 'b', 'c', 'j', 'z', 'w']\n",
        "print(f'Pierwsza: {min(characters)}')\n",
        "print(f'Ostatnia: {max(characters)}')"
      ],
      "execution_count": null,
      "outputs": [
        {
          "output_type": "stream",
          "text": [
            "Pierwsza: b\n",
            "Ostatnia: z\n"
          ],
          "name": "stdout"
        }
      ]
    },
    {
      "cell_type": "code",
      "metadata": {
        "id": "x8kV_T-MitTT",
        "colab_type": "code",
        "colab": {
          "base_uri": "https://localhost:8080/",
          "height": 34
        },
        "outputId": "4ce7e8f5-63af-4c18-ec3e-5ab332b8b34d"
      },
      "source": [
        "ticker = ('TEN', 'PLW', 'CDR')\n",
        "full_name = ('Ten Square Games', 'Playway', 'CD Projekt')\n",
        "list(zip(ticker,full_name))"
      ],
      "execution_count": null,
      "outputs": [
        {
          "output_type": "execute_result",
          "data": {
            "text/plain": [
              "[('TEN', 'Ten Square Games'), ('PLW', 'Playway'), ('CDR', 'CD Projekt')]"
            ]
          },
          "metadata": {
            "tags": []
          },
          "execution_count": 13
        }
      ]
    },
    {
      "cell_type": "code",
      "metadata": {
        "id": "2Lypur77i944",
        "colab_type": "code",
        "colab": {
          "base_uri": "https://localhost:8080/",
          "height": 34
        },
        "outputId": "e3c3984d-5bf8-4c8b-de22-465b35ba0a4f"
      },
      "source": [
        ""
      ],
      "execution_count": null,
      "outputs": [
        {
          "output_type": "stream",
          "text": [
            "<zip object at 0x7f599cbe2248>\n"
          ],
          "name": "stdout"
        }
      ]
    },
    {
      "cell_type": "code",
      "metadata": {
        "id": "Bk4MDsyRjCJA",
        "colab_type": "code",
        "colab": {
          "base_uri": "https://localhost:8080/",
          "height": 34
        },
        "outputId": "11e7a3a9-944d-4f2b-c2dc-109b44a1203c"
      },
      "source": [
        "items = (' ', '0', 0.1, True)\n",
        "bool(items)"
      ],
      "execution_count": null,
      "outputs": [
        {
          "output_type": "execute_result",
          "data": {
            "text/plain": [
              "True"
            ]
          },
          "metadata": {
            "tags": []
          },
          "execution_count": 16
        }
      ]
    },
    {
      "cell_type": "code",
      "metadata": {
        "id": "1jbsfufwjQVq",
        "colab_type": "code",
        "colab": {
          "base_uri": "https://localhost:8080/",
          "height": 34
        },
        "outputId": "47b0554b-291d-475d-960f-a8b9612f9d51"
      },
      "source": [
        "all(items)"
      ],
      "execution_count": null,
      "outputs": [
        {
          "output_type": "execute_result",
          "data": {
            "text/plain": [
              "True"
            ]
          },
          "metadata": {
            "tags": []
          },
          "execution_count": 17
        }
      ]
    },
    {
      "cell_type": "code",
      "metadata": {
        "id": "3W7yiuYajV-N",
        "colab_type": "code",
        "colab": {
          "base_uri": "https://localhost:8080/",
          "height": 34
        },
        "outputId": "efad2dbc-abe5-4743-bf3a-6a8b22b898a3"
      },
      "source": [
        "any(items)"
      ],
      "execution_count": null,
      "outputs": [
        {
          "output_type": "execute_result",
          "data": {
            "text/plain": [
              "True"
            ]
          },
          "metadata": {
            "tags": []
          },
          "execution_count": 18
        }
      ]
    },
    {
      "cell_type": "code",
      "metadata": {
        "id": "j3kDNjhVjgQi",
        "colab_type": "code",
        "colab": {
          "base_uri": "https://localhost:8080/",
          "height": 37
        },
        "outputId": "099037d0-5818-4a88-ddb7-3cb7cf2bfcb0"
      },
      "source": [
        "number = 234\n",
        "bin(number)"
      ],
      "execution_count": null,
      "outputs": [
        {
          "output_type": "execute_result",
          "data": {
            "application/vnd.google.colaboratory.intrinsic+json": {
              "type": "string"
            },
            "text/plain": [
              "'0b11101010'"
            ]
          },
          "metadata": {
            "tags": []
          },
          "execution_count": 19
        }
      ]
    },
    {
      "cell_type": "code",
      "metadata": {
        "id": "o3SIeeXrjoC5",
        "colab_type": "code",
        "colab": {
          "base_uri": "https://localhost:8080/",
          "height": 34
        },
        "outputId": "8d1c42c7-f912-4662-a6cc-93cfa709c704"
      },
      "source": [
        "binary = bin(number)\n",
        "binary.count('1')"
      ],
      "execution_count": null,
      "outputs": [
        {
          "output_type": "execute_result",
          "data": {
            "text/plain": [
              "5"
            ]
          },
          "metadata": {
            "tags": []
          },
          "execution_count": 22
        }
      ]
    },
    {
      "cell_type": "code",
      "metadata": {
        "id": "-AMcTV_Kjz-4",
        "colab_type": "code",
        "colab": {
          "base_uri": "https://localhost:8080/",
          "height": 34
        },
        "outputId": "8c06773a-6aec-4e38-f88f-9af4a781f280"
      },
      "source": [
        "def maximum(a,b):\n",
        "  return max(a,b)\n",
        "\n",
        "maximum(4,7)"
      ],
      "execution_count": null,
      "outputs": [
        {
          "output_type": "execute_result",
          "data": {
            "text/plain": [
              "7"
            ]
          },
          "metadata": {
            "tags": []
          },
          "execution_count": 24
        }
      ]
    },
    {
      "cell_type": "code",
      "metadata": {
        "id": "nYMdbvz6kPsl",
        "colab_type": "code",
        "colab": {}
      },
      "source": [
        "def filter_ge_6(words):\n",
        "  lenght = []\n",
        "  for word in words:\n",
        "    if len(word) >= 6:\n",
        "      lenght.append(word)\n",
        "  return lenght\n",
        "  "
      ],
      "execution_count": null,
      "outputs": []
    },
    {
      "cell_type": "code",
      "metadata": {
        "id": "Nuk5qrPvmR_U",
        "colab_type": "code",
        "colab": {
          "base_uri": "https://localhost:8080/",
          "height": 34
        },
        "outputId": "71d1f902-d60e-4ee8-9212-6645845e9212"
      },
      "source": [
        "object = [2,4,6]\n",
        "\n",
        "def multi(object):\n",
        "  a = 1\n",
        "  for i in object:\n",
        "    a *= i\n",
        "  return a\n",
        "\n",
        "multi(object)\n"
      ],
      "execution_count": null,
      "outputs": [
        {
          "output_type": "execute_result",
          "data": {
            "text/plain": [
              "48"
            ]
          },
          "metadata": {
            "tags": []
          },
          "execution_count": 1
        }
      ]
    },
    {
      "cell_type": "code",
      "metadata": {
        "id": "0XgSTTcKP7tz",
        "colab_type": "code",
        "colab": {
          "base_uri": "https://localhost:8080/",
          "height": 34
        },
        "outputId": "dcf34501-72a7-4417-c393-d8f5501aa438"
      },
      "source": [
        "object = ['aa','bbb','c']\n",
        "\n",
        "def map_longest(object):\n",
        "  lista = []\n",
        "  for i in object:\n",
        "    lista.append(len(i))\n",
        "  return max(lista)\n",
        "\n",
        "map_longest(object)\n",
        "\n",
        "\n"
      ],
      "execution_count": null,
      "outputs": [
        {
          "output_type": "execute_result",
          "data": {
            "text/plain": [
              "3"
            ]
          },
          "metadata": {
            "tags": []
          },
          "execution_count": 3
        }
      ]
    },
    {
      "cell_type": "code",
      "metadata": {
        "id": "Ld3-uJLvRzC-",
        "colab_type": "code",
        "colab": {
          "base_uri": "https://localhost:8080/",
          "height": 34
        },
        "outputId": "ad5ffb95-14e3-4d48-cd5c-88d6d30acdee"
      },
      "source": [
        "object = ['aaaaa','ababababa', 'ggggg' , 'afafafaaf', 'aaa', 'bbb']\n",
        "\n",
        "def zwraca_krotkie_slowa(object):\n",
        "  lista = []\n",
        "  for i in object:\n",
        "    if len(i) < 4:\n",
        "      lista.append(i)\n",
        "  return lista\n",
        "\n",
        "zwraca_krotkie_slowa(object)\n"
      ],
      "execution_count": null,
      "outputs": [
        {
          "output_type": "execute_result",
          "data": {
            "text/plain": [
              "['aaa', 'bbb']"
            ]
          },
          "metadata": {
            "tags": []
          },
          "execution_count": 6
        }
      ]
    },
    {
      "cell_type": "code",
      "metadata": {
        "id": "_IDya04wVlKy",
        "colab_type": "code",
        "colab": {
          "base_uri": "https://localhost:8080/",
          "height": 34
        },
        "outputId": "6f99e43e-30d0-4aa4-b741-857ebc46395e"
      },
      "source": [
        "factorial(6)"
      ],
      "execution_count": null,
      "outputs": [
        {
          "output_type": "execute_result",
          "data": {
            "text/plain": [
              "720"
            ]
          },
          "metadata": {
            "tags": []
          },
          "execution_count": 11
        }
      ]
    },
    {
      "cell_type": "code",
      "metadata": {
        "id": "Qjlu9QI6Tmeh",
        "colab_type": "code",
        "colab": {
          "base_uri": "https://localhost:8080/",
          "height": 34
        },
        "outputId": "9a4ab0b5-39a6-4f09-9451-a8c4dc0cfe78"
      },
      "source": [
        "a = 8\n",
        "\n",
        "def factorial(a):\n",
        "  b = 1\n",
        "  for i in range(1,a):\n",
        "    b *= i\n",
        "  return b*a\n",
        "\n",
        "factorial(4)\n",
        "\n",
        "\n"
      ],
      "execution_count": null,
      "outputs": [
        {
          "output_type": "execute_result",
          "data": {
            "text/plain": [
              "24"
            ]
          },
          "metadata": {
            "tags": []
          },
          "execution_count": 9
        }
      ]
    },
    {
      "cell_type": "code",
      "metadata": {
        "id": "ABNKsicPUkP0",
        "colab_type": "code",
        "colab": {
          "base_uri": "https://localhost:8080/",
          "height": 34
        },
        "outputId": "02bdbe35-d9b5-4d75-d018-efd74c16f063"
      },
      "source": [
        "factorial(6)"
      ],
      "execution_count": null,
      "outputs": [
        {
          "output_type": "execute_result",
          "data": {
            "text/plain": [
              "720"
            ]
          },
          "metadata": {
            "tags": []
          },
          "execution_count": 10
        }
      ]
    },
    {
      "cell_type": "code",
      "metadata": {
        "id": "hNK9mObUVeoY",
        "colab_type": "code",
        "colab": {
          "base_uri": "https://localhost:8080/",
          "height": 34
        },
        "outputId": "824d8eca-de95-498f-80c9-3372f444f7c8"
      },
      "source": [
        "object = [1 , 'aa', 'bbb', None, 3]\n",
        "\n",
        "def count_str(object):\n",
        "  ilosc = 0\n",
        "  for i in object:\n",
        "    if isinstance(i, str):\n",
        "      ilosc +=1\n",
        "  return ilosc\n",
        "\n",
        "count_str(object)\n"
      ],
      "execution_count": null,
      "outputs": [
        {
          "output_type": "execute_result",
          "data": {
            "text/plain": [
              "2"
            ]
          },
          "metadata": {
            "tags": []
          },
          "execution_count": 15
        }
      ]
    },
    {
      "cell_type": "code",
      "metadata": {
        "id": "uSG4aYhmXytI",
        "colab_type": "code",
        "colab": {
          "base_uri": "https://localhost:8080/",
          "height": 34
        },
        "outputId": "47abab07-5242-4195-dda1-335672760fcf"
      },
      "source": [
        "object = [1 , 'aa', 'bbb', None, 3]\n",
        "\n",
        "def count_str(object):\n",
        "  ilosc = 0\n",
        "  for i in object:\n",
        "    if isinstance(i, str) and len(i)>2:\n",
        "      ilosc +=1\n",
        "  return ilosc\n",
        "\n",
        "count_str(object)"
      ],
      "execution_count": null,
      "outputs": [
        {
          "output_type": "execute_result",
          "data": {
            "text/plain": [
              "1"
            ]
          },
          "metadata": {
            "tags": []
          },
          "execution_count": 16
        }
      ]
    },
    {
      "cell_type": "code",
      "metadata": {
        "id": "x2FEDjagZGcO",
        "colab_type": "code",
        "colab": {
          "base_uri": "https://localhost:8080/",
          "height": 34
        },
        "outputId": "cda59fbf-8305-47da-a6f9-95cfd106f4f0"
      },
      "source": [
        "def function(idx, l=[]):\n",
        "    for i in range(idx):\n",
        "        l.append(i ** 3)\n",
        "    print(l)\n",
        "\n",
        "\n",
        "function(3)\n",
        "\n"
      ],
      "execution_count": null,
      "outputs": [
        {
          "output_type": "stream",
          "text": [
            "[0, 1, 8]\n"
          ],
          "name": "stdout"
        }
      ]
    },
    {
      "cell_type": "code",
      "metadata": {
        "id": "mV0RSFU4asa9",
        "colab_type": "code",
        "colab": {
          "base_uri": "https://localhost:8080/",
          "height": 34
        },
        "outputId": "30c0e7c0-cee6-4d06-d14e-4a8d35bf0405"
      },
      "source": [
        "function(5, ['a','b','c'])"
      ],
      "execution_count": null,
      "outputs": [
        {
          "output_type": "stream",
          "text": [
            "['a', 'b', 'c', 0, 1, 8, 27, 64]\n"
          ],
          "name": "stdout"
        }
      ]
    },
    {
      "cell_type": "code",
      "metadata": {
        "id": "Ym31jylWa-UB",
        "colab_type": "code",
        "colab": {
          "base_uri": "https://localhost:8080/",
          "height": 34
        },
        "outputId": "40d56b0e-52d4-4e7f-abce-4034628f021a"
      },
      "source": [
        "function(6)"
      ],
      "execution_count": null,
      "outputs": [
        {
          "output_type": "stream",
          "text": [
            "[0, 1, 8, 0, 1, 8, 27, 64, 125]\n"
          ],
          "name": "stdout"
        }
      ]
    },
    {
      "cell_type": "code",
      "metadata": {
        "id": "MMAyI2t0bK8q",
        "colab_type": "code",
        "colab": {
          "base_uri": "https://localhost:8080/",
          "height": 34
        },
        "outputId": "1b4f2dd8-87f1-43a7-e920-eb7a34d376f8"
      },
      "source": [
        "def function(*args, **kwargs):\n",
        "    print(args, kwargs)\n",
        "\n",
        "function(3,4)"
      ],
      "execution_count": null,
      "outputs": [
        {
          "output_type": "stream",
          "text": [
            "(3, 4) {}\n"
          ],
          "name": "stdout"
        }
      ]
    },
    {
      "cell_type": "code",
      "metadata": {
        "id": "9BIa9gjhbW0O",
        "colab_type": "code",
        "colab": {
          "base_uri": "https://localhost:8080/",
          "height": 34
        },
        "outputId": "cd4a0c18-7517-4d02-d00e-954c85ec1719"
      },
      "source": [
        "function(x=3,y=4)"
      ],
      "execution_count": null,
      "outputs": [
        {
          "output_type": "stream",
          "text": [
            "() {'x': 3, 'y': 4}\n"
          ],
          "name": "stdout"
        }
      ]
    },
    {
      "cell_type": "code",
      "metadata": {
        "id": "-3UKM97KbeQF",
        "colab_type": "code",
        "colab": {
          "base_uri": "https://localhost:8080/",
          "height": 34
        },
        "outputId": "179a90f9-93d0-4ae6-a076-c7168426fbdb"
      },
      "source": [
        "function(1,2,x=3,y=4)"
      ],
      "execution_count": null,
      "outputs": [
        {
          "output_type": "stream",
          "text": [
            "(1, 2) {'x': 3, 'y': 4}\n"
          ],
          "name": "stdout"
        }
      ]
    },
    {
      "cell_type": "code",
      "metadata": {
        "id": "at-kMY7HbmhY",
        "colab_type": "code",
        "colab": {}
      },
      "source": [
        ""
      ],
      "execution_count": null,
      "outputs": []
    }
  ]
}