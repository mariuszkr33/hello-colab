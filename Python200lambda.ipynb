{
  "nbformat": 4,
  "nbformat_minor": 0,
  "metadata": {
    "colab": {
      "name": "Python200lambda",
      "provenance": [],
      "collapsed_sections": [],
      "authorship_tag": "ABX9TyOSkdRid1yabr+P4WEkRYyP",
      "include_colab_link": true
    },
    "kernelspec": {
      "name": "python3",
      "display_name": "Python 3"
    }
  },
  "cells": [
    {
      "cell_type": "markdown",
      "metadata": {
        "id": "view-in-github",
        "colab_type": "text"
      },
      "source": [
        "<a href=\"https://colab.research.google.com/github/mariuszkr33/hello-colab/blob/master/Python200lambda.ipynb\" target=\"_parent\"><img src=\"https://colab.research.google.com/assets/colab-badge.svg\" alt=\"Open In Colab\"/></a>"
      ]
    },
    {
      "cell_type": "code",
      "metadata": {
        "id": "jDg7BgIrRnIb",
        "colab_type": "code",
        "colab": {
          "base_uri": "https://localhost:8080/",
          "height": 34
        },
        "outputId": "760c9361-8c7a-4b65-9f2a-6e6ec7a6488b"
      },
      "source": [
        "stocks = ['playway', 'boombit', 'cd projekt']\n",
        "\n",
        "lenght = list(map(lambda x: len(x) , stocks))\n",
        "\n",
        "lenght\n",
        "\n"
      ],
      "execution_count": null,
      "outputs": [
        {
          "output_type": "execute_result",
          "data": {
            "text/plain": [
              "[7, 7, 10]"
            ]
          },
          "metadata": {
            "tags": []
          },
          "execution_count": 7
        }
      ]
    },
    {
      "cell_type": "code",
      "metadata": {
        "id": "BjbRWXuUR9U1",
        "colab_type": "code",
        "colab": {}
      },
      "source": [
        "def sort_list(lista):\n",
        "  return sorted(lista, key: lambda i:i[1])\n",
        "  "
      ],
      "execution_count": null,
      "outputs": []
    },
    {
      "cell_type": "code",
      "metadata": {
        "id": "dZXptQwOTLT3",
        "colab_type": "code",
        "colab": {
          "base_uri": "https://localhost:8080/",
          "height": 34
        },
        "outputId": "55803269-7764-4063-aa55-453a58de745a"
      },
      "source": [
        "items = [(3, 4), (2, 5), (1, 4), (6, 1)]\n",
        "items.sort(key = lambda x: x[0]**2 + x[1]**2)\n",
        "print(items)"
      ],
      "execution_count": null,
      "outputs": [
        {
          "output_type": "stream",
          "text": [
            "[(1, 4), (3, 4), (2, 5), (6, 1)]\n"
          ],
          "name": "stdout"
        }
      ]
    },
    {
      "cell_type": "code",
      "metadata": {
        "id": "KEEBaelKUGm-",
        "colab_type": "code",
        "colab": {
          "base_uri": "https://localhost:8080/",
          "height": 34
        },
        "outputId": "00c09038-2fd9-4f03-83a7-066227922c1b"
      },
      "source": [
        "stocks = [\n",
        "    {'indeks': 'mWIG40', 'name': 'TEN', 'price': 304},\n",
        "    {'indeks': 'mWIG40', 'name': 'PLW', 'price': 309},\n",
        "    {'indeks': 'sWIG80', 'name': 'BBT', 'price': 22}\n",
        "]\n",
        "\n",
        "stocks.sort(key = lambda x: x['price'])\n",
        "print(stocks)"
      ],
      "execution_count": null,
      "outputs": [
        {
          "output_type": "stream",
          "text": [
            "[{'indeks': 'sWIG80', 'name': 'BBT', 'price': 22}, {'indeks': 'mWIG40', 'name': 'TEN', 'price': 304}, {'indeks': 'mWIG40', 'name': 'PLW', 'price': 309}]\n"
          ],
          "name": "stdout"
        }
      ]
    },
    {
      "cell_type": "code",
      "metadata": {
        "id": "P5IPHUMbV0j7",
        "colab_type": "code",
        "colab": {
          "base_uri": "https://localhost:8080/",
          "height": 34
        },
        "outputId": "d8fe7284-58dc-488c-ed5a-3020abb66e2b"
      },
      "source": [
        "print(list(filter(lambda x: x['indeks'] == 'mWIG40',stocks)))"
      ],
      "execution_count": null,
      "outputs": [
        {
          "output_type": "stream",
          "text": [
            "[{'indeks': 'mWIG40', 'name': 'TEN', 'price': 304}, {'indeks': 'mWIG40', 'name': 'PLW', 'price': 309}]\n"
          ],
          "name": "stdout"
        }
      ]
    },
    {
      "cell_type": "code",
      "metadata": {
        "id": "Yn0EgXpBXZ7v",
        "colab_type": "code",
        "colab": {}
      },
      "source": [
        ""
      ],
      "execution_count": null,
      "outputs": []
    }
  ]
}