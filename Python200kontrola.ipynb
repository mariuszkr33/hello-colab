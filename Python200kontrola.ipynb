{
  "nbformat": 4,
  "nbformat_minor": 0,
  "metadata": {
    "colab": {
      "name": "Python200kontrola",
      "provenance": [],
      "collapsed_sections": [],
      "authorship_tag": "ABX9TyNkCLqNor2gFqge5KyiTUnj",
      "include_colab_link": true
    },
    "kernelspec": {
      "name": "python3",
      "display_name": "Python 3"
    }
  },
  "cells": [
    {
      "cell_type": "markdown",
      "metadata": {
        "id": "view-in-github",
        "colab_type": "text"
      },
      "source": [
        "<a href=\"https://colab.research.google.com/github/mariuszkr33/hello-colab/blob/master/Python200kontrola.ipynb\" target=\"_parent\"><img src=\"https://colab.research.google.com/assets/colab-badge.svg\" alt=\"Open In Colab\"/></a>"
      ]
    },
    {
      "cell_type": "code",
      "metadata": {
        "id": "3UzEEVCICqG2",
        "colab_type": "code",
        "colab": {
          "base_uri": "https://localhost:8080/",
          "height": 34
        },
        "outputId": "9f055535-05e6-4297-c584-469520ac6279"
      },
      "source": [
        "filename = '01012020_sales.xlsx'\n",
        "\n",
        "if filename.endswith('xlsx'):\n",
        "  print('tak')\n",
        "else:\n",
        "  print('nie')"
      ],
      "execution_count": null,
      "outputs": [
        {
          "output_type": "stream",
          "text": [
            "tak\n"
          ],
          "name": "stdout"
        }
      ]
    },
    {
      "cell_type": "code",
      "metadata": {
        "id": "_Wg0se2yDaP0",
        "colab_type": "code",
        "colab": {
          "base_uri": "https://localhost:8080/",
          "height": 34
        },
        "outputId": "2a85aeaf-eb0d-494c-b7c9-ce64f53a78c3"
      },
      "source": [
        "code = 'DSVNDOICSN'\n",
        "if code.isupper():\n",
        "  print('tak')"
      ],
      "execution_count": null,
      "outputs": [
        {
          "output_type": "stream",
          "text": [
            "tak\n"
          ],
          "name": "stdout"
        }
      ]
    },
    {
      "cell_type": "code",
      "metadata": {
        "id": "z-7GDf9TD3c7",
        "colab_type": "code",
        "colab": {
          "base_uri": "https://localhost:8080/",
          "height": 34
        },
        "outputId": "0468b070-be13-48d2-d2da-908dd825e935"
      },
      "source": [
        "number = 1.0\n",
        "if isinstance(number,int):\n",
        "  print('tak')\n",
        "else:\n",
        "  print('nie')"
      ],
      "execution_count": null,
      "outputs": [
        {
          "output_type": "stream",
          "text": [
            "nie\n"
          ],
          "name": "stdout"
        }
      ]
    },
    {
      "cell_type": "code",
      "metadata": {
        "id": "0_TG-V_5EDCO",
        "colab_type": "code",
        "colab": {
          "base_uri": "https://localhost:8080/",
          "height": 34
        },
        "outputId": "7a509170-1d7b-461a-9ef1-4b3b72fed891"
      },
      "source": [
        "password = 'cskdnjcasa#!'\n",
        "if len(password)>=11:\n",
        "  print('hasło poprawne')\n",
        "else:\n",
        "  print('hasło zbyt krótkie')"
      ],
      "execution_count": null,
      "outputs": [
        {
          "output_type": "stream",
          "text": [
            "hasło poprawne\n"
          ],
          "name": "stdout"
        }
      ]
    },
    {
      "cell_type": "code",
      "metadata": {
        "id": "Yzp2r5xaEqFC",
        "colab_type": "code",
        "colab": {
          "base_uri": "https://localhost:8080/",
          "height": 34
        },
        "outputId": "0bc175b0-5962-47f5-e40b-9beacf9ab8f6"
      },
      "source": [
        "password = 'cskdnjcasa#!'\n",
        "if len(password)>=11:\n",
        "  for i in password:\n",
        "    if i == '!':\n",
        "      print('hasło poprawne')\n",
        "else:\n",
        "  print('hasło zbyt krótkie')"
      ],
      "execution_count": null,
      "outputs": [
        {
          "output_type": "stream",
          "text": [
            "hasło poprawne\n"
          ],
          "name": "stdout"
        }
      ]
    },
    {
      "cell_type": "code",
      "metadata": {
        "id": "Yi98PIpxFQOu",
        "colab_type": "code",
        "colab": {
          "base_uri": "https://localhost:8080/",
          "height": 34
        },
        "outputId": "3a7de7b6-3629-4081-ff52-3bfb2a256ac3"
      },
      "source": [
        "password = 'cskdnjcasa#!'\n",
        "if len(password) >= 11 and '!' in password:\n",
        "    print('Hasło poprawne')\n",
        "else:\n",
        "    print('Hasło niepoprawne')"
      ],
      "execution_count": null,
      "outputs": [
        {
          "output_type": "stream",
          "text": [
            "Hasło poprawne\n"
          ],
          "name": "stdout"
        }
      ]
    },
    {
      "cell_type": "code",
      "metadata": {
        "id": "gyhXJJ4oFcll",
        "colab_type": "code",
        "colab": {
          "base_uri": "https://localhost:8080/",
          "height": 34
        },
        "outputId": "85edbafa-38d0-4fcf-a9a9-0f2c2f734267"
      },
      "source": [
        "project_ids = ['02134', '24253']\n",
        "project_id = '02135'\n",
        "\n",
        "if project_id not in project_ids:\n",
        "  project_ids.append(project_id)\n",
        "\n",
        "project_ids\n"
      ],
      "execution_count": null,
      "outputs": [
        {
          "output_type": "execute_result",
          "data": {
            "text/plain": [
              "['02134', '24253', '02135']"
            ]
          },
          "metadata": {
            "tags": []
          },
          "execution_count": 13
        }
      ]
    },
    {
      "cell_type": "code",
      "metadata": {
        "id": "DcczH6eMF21P",
        "colab_type": "code",
        "colab": {
          "base_uri": "https://localhost:8080/",
          "height": 34
        },
        "outputId": "3720d169-8ebd-4708-ca76-2ce636977738"
      },
      "source": [
        "project_ids = {\n",
        "    '01': 'open', \n",
        "    '02': 'new',\n",
        "    '03': 'in progress',\n",
        "    '04': 'completed'\n",
        "}\n",
        "\n",
        "if project_ids['02'] =='new':\n",
        "  project_ids['02'] = 'open'\n",
        "\n",
        "project_ids\n"
      ],
      "execution_count": null,
      "outputs": [
        {
          "output_type": "execute_result",
          "data": {
            "text/plain": [
              "{'01': 'open', '02': 'open', '03': 'in progress', '04': 'completed'}"
            ]
          },
          "metadata": {
            "tags": []
          },
          "execution_count": 15
        }
      ]
    },
    {
      "cell_type": "code",
      "metadata": {
        "id": "oikjq5TxGtjm",
        "colab_type": "code",
        "colab": {
          "base_uri": "https://localhost:8080/",
          "height": 34
        },
        "outputId": "93d05d52-f0db-4efd-a38d-9e9c2c1c7420"
      },
      "source": [
        "item = '001'\n",
        "items = ['001', '000', '003', '005', '006']\n",
        "\n",
        "if item in items:\n",
        "  items.remove(item)\n",
        "\n",
        "items"
      ],
      "execution_count": null,
      "outputs": [
        {
          "output_type": "execute_result",
          "data": {
            "text/plain": [
              "['000', '003', '005', '006']"
            ]
          },
          "metadata": {
            "tags": []
          },
          "execution_count": 18
        }
      ]
    },
    {
      "cell_type": "code",
      "metadata": {
        "id": "Kdto0eE0HE61",
        "colab_type": "code",
        "colab": {
          "base_uri": "https://localhost:8080/",
          "height": 34
        },
        "outputId": "9a5e912e-9124-4572-fbef-b86fe9700561"
      },
      "source": [
        "a = []\n",
        "for i in range(10,100):\n",
        "  if i%11 == 0:\n",
        "    a.append(str(i))\n",
        "  \n",
        "print(a)"
      ],
      "execution_count": null,
      "outputs": [
        {
          "output_type": "stream",
          "text": [
            "['11', '22', '33', '44', '55', '66', '77', '88', '99']\n"
          ],
          "name": "stdout"
        }
      ]
    },
    {
      "cell_type": "code",
      "metadata": {
        "id": "U0y8RZ1GH2kX",
        "colab_type": "code",
        "colab": {
          "base_uri": "https://localhost:8080/",
          "height": 34
        },
        "outputId": "c42934f5-2a9b-41a3-a186-42fe9fc76d2e"
      },
      "source": [
        "a = []\n",
        "for i in range(10,100):\n",
        "  if i%11 == 0 and i%3 != 0:\n",
        "    a.append(str(i))\n",
        "  \n",
        "print(a)"
      ],
      "execution_count": null,
      "outputs": [
        {
          "output_type": "stream",
          "text": [
            "['11', '22', '44', '55', '77', '88']\n"
          ],
          "name": "stdout"
        }
      ]
    },
    {
      "cell_type": "code",
      "metadata": {
        "id": "GWoNHklPJfV8",
        "colab_type": "code",
        "colab": {
          "base_uri": "https://localhost:8080/",
          "height": 34
        },
        "outputId": "73f7668b-10e7-4a8b-a719-bcbe7217dd6a"
      },
      "source": [
        "print(','.join(a))"
      ],
      "execution_count": null,
      "outputs": [
        {
          "output_type": "stream",
          "text": [
            "11,22,44,55,77,88\n"
          ],
          "name": "stdout"
        }
      ]
    },
    {
      "cell_type": "code",
      "metadata": {
        "id": "xxtcBQ_rJt4v",
        "colab_type": "code",
        "colab": {
          "base_uri": "https://localhost:8080/",
          "height": 34
        },
        "outputId": "712e766f-f6a9-44c2-b61b-5358971c7828"
      },
      "source": [
        "items = [1, 3, 4, 5, 6, 9, 10, 17, 23, 24]\n",
        "b = []\n",
        "for i in items:\n",
        "  if i % 2 == 0:\n",
        "    b.append(str(i))\n",
        "print(b)\n",
        "\n"
      ],
      "execution_count": null,
      "outputs": [
        {
          "output_type": "stream",
          "text": [
            "['4', '6', '10', '24']\n"
          ],
          "name": "stdout"
        }
      ]
    },
    {
      "cell_type": "code",
      "metadata": {
        "id": "53vzo6alKPR9",
        "colab_type": "code",
        "colab": {
          "base_uri": "https://localhost:8080/",
          "height": 34
        },
        "outputId": "48d8b0fe-ae6a-42ef-fa4e-18bede653d60"
      },
      "source": [
        "items = [1, 5, 3, 2, 2, 4, 2, 4]\n",
        "c = []\n",
        "\n",
        "for i in items:\n",
        "  if not i in c:\n",
        "    c.append(i)\n",
        "print(c)"
      ],
      "execution_count": null,
      "outputs": [
        {
          "output_type": "stream",
          "text": [
            "[1, 5, 3, 2, 4]\n"
          ],
          "name": "stdout"
        }
      ]
    },
    {
      "cell_type": "code",
      "metadata": {
        "id": "Fss4UYHoLZ_L",
        "colab_type": "code",
        "colab": {
          "base_uri": "https://localhost:8080/",
          "height": 34
        },
        "outputId": "0e1ebca2-b59a-4853-b2a0-d641af3305e4"
      },
      "source": [
        "c = [i for i in items if not i  in c]\n",
        "c"
      ],
      "execution_count": null,
      "outputs": [
        {
          "output_type": "execute_result",
          "data": {
            "text/plain": [
              "[1, 5, 3, 2, 2, 4, 2, 4]"
            ]
          },
          "metadata": {
            "tags": []
          },
          "execution_count": 42
        }
      ]
    },
    {
      "cell_type": "code",
      "metadata": {
        "id": "A9yeJugNMMZ7",
        "colab_type": "code",
        "colab": {
          "base_uri": "https://localhost:8080/",
          "height": 34
        },
        "outputId": "bb753f79-8b7a-4d30-8216-e842ff6037ed"
      },
      "source": [
        "text = 'Python jest bardzo popularnym językiem programowania'\n",
        "text = text.lower()\n",
        "text = text.split(' ')\n",
        "z = []\n",
        "\n",
        "text\n"
      ],
      "execution_count": null,
      "outputs": [
        {
          "output_type": "execute_result",
          "data": {
            "text/plain": [
              "['python', 'jest', 'bardzo', 'popularnym', 'językiem', 'programowania']"
            ]
          },
          "metadata": {
            "tags": []
          },
          "execution_count": 8
        }
      ]
    },
    {
      "cell_type": "code",
      "metadata": {
        "id": "nyaDYx_IvE-j",
        "colab_type": "code",
        "colab": {
          "base_uri": "https://localhost:8080/",
          "height": 34
        },
        "outputId": "5654b117-41b5-4d5f-cb0a-4651f1ce0cf4"
      },
      "source": [
        "for idx, word in enumerate(text):\n",
        "  if idx<4:\n",
        "    z.append(word)\n",
        "\n",
        "print(z)"
      ],
      "execution_count": null,
      "outputs": [
        {
          "output_type": "stream",
          "text": [
            "['python', 'jest', 'bardzo', 'popularnym']\n"
          ],
          "name": "stdout"
        }
      ]
    },
    {
      "cell_type": "code",
      "metadata": {
        "id": "g6BMT6StwMde",
        "colab_type": "code",
        "colab": {
          "base_uri": "https://localhost:8080/",
          "height": 34
        },
        "outputId": "5f9bfb49-3f02-4f7d-ad40-ca9c0d4fc4e4"
      },
      "source": [
        "probabilities = [0.21, 0.91, 0.34, 0.55, 0.76, 0.02]\n",
        "\n",
        "x =[]\n",
        "\n",
        "for i in probabilities:\n",
        "  if i > 0.5:\n",
        "    x.append(i)\n",
        "print(x)"
      ],
      "execution_count": null,
      "outputs": [
        {
          "output_type": "stream",
          "text": [
            "[0.91, 0.55, 0.76]\n"
          ],
          "name": "stdout"
        }
      ]
    },
    {
      "cell_type": "code",
      "metadata": {
        "id": "GVTL6Z_hwriF",
        "colab_type": "code",
        "colab": {
          "base_uri": "https://localhost:8080/",
          "height": 34
        },
        "outputId": "3b6e61ae-05f7-4d54-84c2-b3f12ef3af25"
      },
      "source": [
        "probabilities = [0.21, 0.91, 0.34, 0.55, 0.76, 0.02]\n",
        "\n",
        "x = []\n",
        "\n",
        "for i in probabilities:\n",
        "  if i > 0.5:\n",
        "    x.append(1)\n",
        "  else:\n",
        "    x.append(0)\n",
        "\n",
        "print(x)"
      ],
      "execution_count": null,
      "outputs": [
        {
          "output_type": "stream",
          "text": [
            "[0, 1, 0, 1, 1, 0]\n"
          ],
          "name": "stdout"
        }
      ]
    },
    {
      "cell_type": "code",
      "metadata": {
        "id": "-RIq2eYLxNsM",
        "colab_type": "code",
        "colab": {
          "base_uri": "https://localhost:8080/",
          "height": 34
        },
        "outputId": "28e6fc42-aad9-4328-b749-b98269f968d4"
      },
      "source": [
        "items = ['x', 'y', 'z', 'y', 'x', 'y', 'y', 'z', 'x']\n",
        "\n",
        "a ={}\n",
        "\n",
        "for i in items:\n",
        "  if i not in a.keys():\n",
        "    a[i] = 1\n",
        "  else:\n",
        "    a[i] +=1\n",
        "print(a)\n",
        "\n"
      ],
      "execution_count": null,
      "outputs": [
        {
          "output_type": "stream",
          "text": [
            "{'x': 3, 'y': 4, 'z': 2}\n"
          ],
          "name": "stdout"
        }
      ]
    },
    {
      "cell_type": "code",
      "metadata": {
        "id": "myPOhkUdyWOv",
        "colab_type": "code",
        "colab": {
          "base_uri": "https://localhost:8080/",
          "height": 34
        },
        "outputId": "7679100d-ad53-47d4-c611-1c747d9e5078"
      },
      "source": [
        "text = \"\"\"Python – język programowania wysokiego poziomu\n",
        "ogólnego przeznaczenia, o rozbudowanym pakiecie bibliotek\n",
        "standardowych, którego ideą przewodnią jest czytelność i\n",
        "klarowność kodu źródłowego.\"\"\"\n",
        "\n",
        "words = text.split()\n",
        "words = [word.lower() for word in words]\n",
        "words = [word.replace(',','').replace('.','') for word in words]\n",
        "\n",
        "words = [word for word in words if len(word)>10]\n",
        "print(words)\n"
      ],
      "execution_count": null,
      "outputs": [
        {
          "output_type": "stream",
          "text": [
            "['programowania', 'przeznaczenia', 'rozbudowanym', 'standardowych']\n"
          ],
          "name": "stdout"
        }
      ]
    },
    {
      "cell_type": "code",
      "metadata": {
        "id": "pd5YtcUh1KPs",
        "colab_type": "code",
        "colab": {
          "base_uri": "https://localhost:8080/",
          "height": 136
        },
        "outputId": "9655b7e3-d626-4bbe-d554-b1e6a2a3afee"
      },
      "source": [
        "indexes = [\n",
        "    'WIG', 'WIG-banki', 'WIG-budownictwo', 'WIG-CEE', \n",
        "    'WIG-chemia', 'WIG-energia', 'WIG-ESG', 'WIG-górnictwo',\n",
        "    'WIG-informatyka', 'WIG-leki', 'WIG-media', 'WIG-motoryzacja',\n",
        "    'WIG-nieruchomości', 'WIG-odzież', 'WIG-paliwa', 'WIG-Poland',\n",
        "    'WIG-spożywczy', 'WIG-telekomunikacja', 'WIG-Ukraine',\n",
        "    'WIG.GAMES', 'WIG.MS-BAS', 'WIG.MS-FIN', 'WIG.MS-PET',\n",
        "    'WIG20', 'WIG20dvp', 'WIG20lev', 'WIG20short', 'WIG20TR',\n",
        "    'WIG30', 'WIG30TR', 'WIGdiv', 'WIGtech'\n",
        "]\n",
        "\n",
        "\n",
        "for i in indexes:\n",
        "  if '20' in i or '30' in i:\n",
        "    print(i)"
      ],
      "execution_count": null,
      "outputs": [
        {
          "output_type": "stream",
          "text": [
            "WIG20\n",
            "WIG20dvp\n",
            "WIG20lev\n",
            "WIG20short\n",
            "WIG20TR\n",
            "WIG30\n",
            "WIG30TR\n"
          ],
          "name": "stdout"
        }
      ]
    },
    {
      "cell_type": "code",
      "metadata": {
        "id": "ujLK0DzpknL4",
        "colab_type": "code",
        "colab": {
          "base_uri": "https://localhost:8080/",
          "height": 85
        },
        "outputId": "787a5317-41b9-41f4-ef80-191874d52c38"
      },
      "source": [
        "gaming = {\n",
        "    '11B': 362.5,\n",
        "    'CDR': 297.0,\n",
        "    'CIG': 0.85,\n",
        "    'PLW': 318.0,\n",
        "    'TEN': 300.0\n",
        "}\n",
        "\n",
        "for x,y in gaming.items():\n",
        "  if y > 100:\n",
        "   print(x)"
      ],
      "execution_count": null,
      "outputs": [
        {
          "output_type": "stream",
          "text": [
            "11B\n",
            "CDR\n",
            "PLW\n",
            "TEN\n"
          ],
          "name": "stdout"
        }
      ]
    },
    {
      "cell_type": "code",
      "metadata": {
        "id": "gByax60flnN1",
        "colab_type": "code",
        "colab": {
          "base_uri": "https://localhost:8080/",
          "height": 85
        },
        "outputId": "cba24e1b-5892-4cd3-b5c6-d7d8a12db2c5"
      },
      "source": [
        " names = ['Jack', 'Leon', 'Alice', '32-3c', 'Bob']\n",
        "\n",
        " for i in names:\n",
        "   if i.isalpha():\n",
        "     print(f'Hello {i}')\n"
      ],
      "execution_count": null,
      "outputs": [
        {
          "output_type": "stream",
          "text": [
            "Hello Jack\n",
            "Hello Leon\n",
            "Hello Alice\n",
            "Hello Bob\n"
          ],
          "name": "stdout"
        }
      ]
    },
    {
      "cell_type": "code",
      "metadata": {
        "id": "9rAOqvr4nKqZ",
        "colab_type": "code",
        "colab": {
          "base_uri": "https://localhost:8080/",
          "height": 34
        },
        "outputId": "70ab6c6b-abfe-4292-f62c-06bdbd4b9d7e"
      },
      "source": [
        "list1 = [1, 2, 0]\n",
        "list2 = [4, 5, 6, 1]\n",
        "result = False\n",
        "\n",
        "for i in list1:\n",
        "  if i in list2:\n",
        "    result = True\n",
        "    break\n",
        "print(result)"
      ],
      "execution_count": null,
      "outputs": [
        {
          "output_type": "stream",
          "text": [
            "True\n"
          ],
          "name": "stdout"
        }
      ]
    },
    {
      "cell_type": "code",
      "metadata": {
        "id": "EfHy6q4Xpkzb",
        "colab_type": "code",
        "colab": {
          "base_uri": "https://localhost:8080/",
          "height": 34
        },
        "outputId": "b73b909f-7b00-42a8-a67b-923e6cbdbcc8"
      },
      "source": [
        "hashtags = ['holiday', 'sport', 'fit', None, 'fashion']\n",
        "\n",
        "result = True\n",
        "\n",
        "for i in hashtags:\n",
        "  if not isinstance(i,str):\n",
        "    result = False\n",
        "    break\n",
        "print(result)\n"
      ],
      "execution_count": null,
      "outputs": [
        {
          "output_type": "stream",
          "text": [
            "False\n"
          ],
          "name": "stdout"
        }
      ]
    },
    {
      "cell_type": "code",
      "metadata": {
        "id": "X1DS8DkVKhoB",
        "colab_type": "code",
        "colab": {
          "base_uri": "https://localhost:8080/",
          "height": 34
        },
        "outputId": "a70bc195-51dd-4cf8-c209-bf885debf56f"
      },
      "source": [
        "number = 17\n",
        "\n",
        "for i in range(2,number):\n",
        "  if number % i == 0:\n",
        "    print(f'Liczba {number} nie jest pierwsza')\n",
        "    break\n",
        "else:\n",
        "  print(f'Liczba {number} to liczba pierwsza')"
      ],
      "execution_count": null,
      "outputs": [
        {
          "output_type": "stream",
          "text": [
            "Liczba 17 to liczba pierwsza\n"
          ],
          "name": "stdout"
        }
      ]
    },
    {
      "cell_type": "code",
      "metadata": {
        "id": "Opv3-CqZLvQH",
        "colab_type": "code",
        "colab": {
          "base_uri": "https://localhost:8080/",
          "height": 34
        },
        "outputId": "b8323a9c-a164-42ed-a81a-1849dd1264c0"
      },
      "source": [
        "gaming = {\n",
        "    '11B': [362.5, 'PLN'],\n",
        "    'CDR': [74.25, 'USD'],\n",
        "    'CIG': [0.85, 'PLN'],\n",
        "    'PLW': [79.5, 'USD'],\n",
        "    'TEN': [300.0, 'PLN']\n",
        "}\n",
        "\n",
        "for x,y in gaming.items():\n",
        "  if y[1] == 'PLN':\n",
        "    continue\n",
        "  y[0] = y[0] * 4\n",
        "  y[1] = 'PLN'\n",
        "print(gaming)"
      ],
      "execution_count": null,
      "outputs": [
        {
          "output_type": "stream",
          "text": [
            "{'11B': [362.5, 'PLN'], 'CDR': [297.0, 'PLN'], 'CIG': [0.85, 'PLN'], 'PLW': [318.0, 'PLN'], 'TEN': [300.0, 'PLN']}\n"
          ],
          "name": "stdout"
        }
      ]
    },
    {
      "cell_type": "code",
      "metadata": {
        "id": "Ns_ijTKhOEph",
        "colab_type": "code",
        "colab": {
          "base_uri": "https://localhost:8080/",
          "height": 85
        },
        "outputId": "d167ce1a-59aa-4c93-c271-3ce78cec83f1"
      },
      "source": [
        "names = ['Jack', 'Leon', 'Alice', None, 'Bob']\n",
        "\n",
        "for i in names:\n",
        "  if i is None:\n",
        "    continue\n",
        "  print(i)"
      ],
      "execution_count": null,
      "outputs": [
        {
          "output_type": "stream",
          "text": [
            "Jack\n",
            "Leon\n",
            "Alice\n",
            "Bob\n"
          ],
          "name": "stdout"
        }
      ]
    },
    {
      "cell_type": "code",
      "metadata": {
        "id": "f5ffUSQXm36k",
        "colab_type": "code",
        "colab": {}
      },
      "source": [
        "a = 0 #pierwszą liczbą pierwszą w naszej liście 'c' będzie b=2, jej indeks to a=0\n",
        "b = 2\n",
        "c = []\n",
        "\n",
        "while a < 10:\n",
        "  for i in range(2, b):\n",
        "    if b % i == 0:\n",
        "      break\n",
        "  else:\n",
        "      a += 1\n",
        "      b += 1\n",
        "      c.append(str(b))\n",
        "\n",
        "print(','.join(b))\n",
        "\n",
        "\n"
      ],
      "execution_count": null,
      "outputs": []
    },
    {
      "cell_type": "code",
      "metadata": {
        "id": "bVoSCldyql4v",
        "colab_type": "code",
        "colab": {}
      },
      "source": [
        "n = 1\n",
        "pv = 1000\n",
        "r = 0.04\n",
        "\n",
        "while pv >= 2000:\n",
        "  pv = pv * (r +1)**n\n",
        "  if pv < 2000:\n",
        "    n += 1\n",
        "  else:\n",
        "    print(f'Liczba okresów to {n} a zwrot: {pv}')"
      ],
      "execution_count": null,
      "outputs": []
    },
    {
      "cell_type": "code",
      "metadata": {
        "id": "9ovtIkOzCwcz",
        "colab_type": "code",
        "colab": {}
      },
      "source": [
        ""
      ],
      "execution_count": null,
      "outputs": []
    }
  ]
}