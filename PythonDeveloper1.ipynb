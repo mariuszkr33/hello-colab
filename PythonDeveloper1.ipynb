{
  "nbformat": 4,
  "nbformat_minor": 0,
  "metadata": {
    "colab": {
      "name": "PythonDeveloper1.ipynb",
      "provenance": [],
      "collapsed_sections": [],
      "authorship_tag": "ABX9TyOTkCfIvjwyosiMRhhvuZj4",
      "include_colab_link": true
    },
    "kernelspec": {
      "name": "python3",
      "display_name": "Python 3"
    }
  },
  "cells": [
    {
      "cell_type": "markdown",
      "metadata": {
        "id": "view-in-github",
        "colab_type": "text"
      },
      "source": [
        "<a href=\"https://colab.research.google.com/github/mariuszkr33/hello-colab/blob/master/PythonDeveloper1.ipynb\" target=\"_parent\"><img src=\"https://colab.research.google.com/assets/colab-badge.svg\" alt=\"Open In Colab\"/></a>"
      ]
    },
    {
      "cell_type": "code",
      "metadata": {
        "id": "EtB-IUVlOpWX",
        "colab_type": "code",
        "colab": {
          "base_uri": "https://localhost:8080/",
          "height": 34
        },
        "outputId": "2fa52936-900a-4357-c407-af066416be8a"
      },
      "source": [
        "a = 'jjj'\n",
        "print(a)"
      ],
      "execution_count": null,
      "outputs": [
        {
          "output_type": "stream",
          "text": [
            "jjj\n"
          ],
          "name": "stdout"
        }
      ]
    },
    {
      "cell_type": "code",
      "metadata": {
        "id": "jeFxgWJJO8YY",
        "colab_type": "code",
        "colab": {
          "base_uri": "https://localhost:8080/",
          "height": 34
        },
        "outputId": "e588269c-86db-4054-a8e4-17446d3a6d88"
      },
      "source": [
        "a = 12\n",
        "b = 3\n",
        "c = a + b\n",
        "print(c)"
      ],
      "execution_count": null,
      "outputs": [
        {
          "output_type": "stream",
          "text": [
            "15\n"
          ],
          "name": "stdout"
        }
      ]
    },
    {
      "cell_type": "code",
      "metadata": {
        "id": "rZ3ZrrhaPMfo",
        "colab_type": "code",
        "colab": {
          "base_uri": "https://localhost:8080/",
          "height": 34
        },
        "outputId": "11822175-ec74-43a1-d917-895e9c24ca2a"
      },
      "source": [
        "print(c - b)"
      ],
      "execution_count": null,
      "outputs": [
        {
          "output_type": "stream",
          "text": [
            "12\n"
          ],
          "name": "stdout"
        }
      ]
    },
    {
      "cell_type": "code",
      "metadata": {
        "id": "sNeY_-ApPVf0",
        "colab_type": "code",
        "colab": {
          "base_uri": "https://localhost:8080/",
          "height": 34
        },
        "outputId": "e19f4ecf-2e23-4bd6-c851-4ea6fdde2f65"
      },
      "source": [
        "print('a')"
      ],
      "execution_count": null,
      "outputs": [
        {
          "output_type": "stream",
          "text": [
            "a\n"
          ],
          "name": "stdout"
        }
      ]
    },
    {
      "cell_type": "code",
      "metadata": {
        "id": "kmk30BObPa4G",
        "colab_type": "code",
        "colab": {
          "base_uri": "https://localhost:8080/",
          "height": 34
        },
        "outputId": "1843348e-e9dd-4faf-a9cc-ca6c0a8b0745"
      },
      "source": [
        "nazwa = 'Python'\n",
        "print('Cześć, {}'. format(nazwa))"
      ],
      "execution_count": null,
      "outputs": [
        {
          "output_type": "stream",
          "text": [
            "Cześć, Python\n"
          ],
          "name": "stdout"
        }
      ]
    },
    {
      "cell_type": "code",
      "metadata": {
        "id": "Vgcvjo7CR5mR",
        "colab_type": "code",
        "colab": {
          "base_uri": "https://localhost:8080/",
          "height": 34
        },
        "outputId": "15f62cb4-8261-4896-d92c-5e062edcd24d"
      },
      "source": [
        "name = '09023-Python-32'\n",
        "print(name[6:12])"
      ],
      "execution_count": null,
      "outputs": [
        {
          "output_type": "stream",
          "text": [
            "Python\n"
          ],
          "name": "stdout"
        }
      ]
    },
    {
      "cell_type": "code",
      "metadata": {
        "id": "cZJGnSI1TNyY",
        "colab_type": "code",
        "colab": {
          "base_uri": "https://localhost:8080/",
          "height": 68
        },
        "outputId": "807162b2-0e5a-4477-8ee0-a6b37268229f"
      },
      "source": [
        "x = '1323435'\n",
        "y = 12334\n",
        "z = '0'\n",
        " \n",
        "print('x: {0}\\ny: {1}\\nz: {2}'.format(type(x), type(y), type(z)))"
      ],
      "execution_count": null,
      "outputs": [
        {
          "output_type": "stream",
          "text": [
            "x: <class 'str'>\n",
            "y: <class 'int'>\n",
            "z: <class 'str'>\n"
          ],
          "name": "stdout"
        }
      ]
    },
    {
      "cell_type": "code",
      "metadata": {
        "id": "Qm-ZijCDTdLJ",
        "colab_type": "code",
        "colab": {
          "base_uri": "https://localhost:8080/",
          "height": 51
        },
        "outputId": "5238feb0-e8d3-4edd-c315-176bf8c120d0"
      },
      "source": [
        "f = 33\n",
        "g = \"33\"\n",
        "print('f: {0}\\ng: {0}'.format(type(x),type(g)))"
      ],
      "execution_count": null,
      "outputs": [
        {
          "output_type": "stream",
          "text": [
            "f: <class 'str'>\n",
            "g: <class 'str'>\n"
          ],
          "name": "stdout"
        }
      ]
    },
    {
      "cell_type": "code",
      "metadata": {
        "id": "EzKSDnnfUI4b",
        "colab_type": "code",
        "colab": {
          "base_uri": "https://localhost:8080/",
          "height": 34
        },
        "outputId": "06609b9b-58e1-4fdb-953d-31e518f8c5ec"
      },
      "source": [
        "y='%'.join(['python','developer'])\n",
        "print(y)"
      ],
      "execution_count": null,
      "outputs": [
        {
          "output_type": "stream",
          "text": [
            "python%developer\n"
          ],
          "name": "stdout"
        }
      ]
    },
    {
      "cell_type": "code",
      "metadata": {
        "id": "qBTDuHd7UyJn",
        "colab_type": "code",
        "colab": {
          "base_uri": "https://localhost:8080/",
          "height": 34
        },
        "outputId": "b30ebb3c-d427-4a57-c0c9-4e6771372060"
      },
      "source": [
        "y = 'gg.ww.rr.tt.yyy.22'\n",
        "print(y.split('.'))"
      ],
      "execution_count": null,
      "outputs": [
        {
          "output_type": "stream",
          "text": [
            "['gg', 'ww', 'rr', 'tt', 'yyy', '22']\n"
          ],
          "name": "stdout"
        }
      ]
    },
    {
      "cell_type": "code",
      "metadata": {
        "id": "WhO498EXVQ0Z",
        "colab_type": "code",
        "colab": {
          "base_uri": "https://localhost:8080/",
          "height": 34
        },
        "outputId": "03b68935-fb65-4f2e-ce40-7c9467658973"
      },
      "source": [
        "age = 20\n",
        "print('Mam {} lat'. format(age))"
      ],
      "execution_count": null,
      "outputs": [
        {
          "output_type": "stream",
          "text": [
            "Mam 20 lat\n"
          ],
          "name": "stdout"
        }
      ]
    },
    {
      "cell_type": "code",
      "metadata": {
        "id": "3Lja8lYhoLSy",
        "colab_type": "code",
        "colab": {
          "base_uri": "https://localhost:8080/",
          "height": 34
        },
        "outputId": "cd7f58b2-0a7d-4dd0-c789-6230c6fe1c67"
      },
      "source": [
        "a = 'Python'\n",
        "b = '3.8'\n",
        "print('Uczę się języka {} wersji {}.'. format(a,b))"
      ],
      "execution_count": null,
      "outputs": [
        {
          "output_type": "stream",
          "text": [
            "Uczę się języka Python wersji 3.8.\n"
          ],
          "name": "stdout"
        }
      ]
    },
    {
      "cell_type": "code",
      "metadata": {
        "id": "f-iRpAqypS13",
        "colab_type": "code",
        "colab": {
          "base_uri": "https://localhost:8080/",
          "height": 34
        },
        "outputId": "c6552d25-e23d-4725-8810-96ae82cee95b"
      },
      "source": [
        "price = 199.99\n",
        "\n",
        "print('Towar kosztuje', price)"
      ],
      "execution_count": null,
      "outputs": [
        {
          "output_type": "stream",
          "text": [
            "Towar kosztuje 199.99\n"
          ],
          "name": "stdout"
        }
      ]
    },
    {
      "cell_type": "code",
      "metadata": {
        "id": "iYBd5sENqF6m",
        "colab_type": "code",
        "colab": {
          "base_uri": "https://localhost:8080/",
          "height": 34
        },
        "outputId": "fe79710c-e3ae-46db-e4a5-f5cf0e0566da"
      },
      "source": [
        "price = 69.99\n",
        "print(f'Towar kosztuje {price}.')"
      ],
      "execution_count": null,
      "outputs": [
        {
          "output_type": "stream",
          "text": [
            "Towar kosztuje 69.99.\n"
          ],
          "name": "stdout"
        }
      ]
    },
    {
      "cell_type": "code",
      "metadata": {
        "id": "WPkLpX0FqIT1",
        "colab_type": "code",
        "colab": {
          "base_uri": "https://localhost:8080/",
          "height": 34
        },
        "outputId": "fa3cfe09-2a8d-4818-e077-29814067f854"
      },
      "source": [
        "cena = 34.99\n",
        "waga = 10\n",
        "print(f'Cena: {cena} PLN. Waga: {waga} kg.')"
      ],
      "execution_count": null,
      "outputs": [
        {
          "output_type": "stream",
          "text": [
            "Cena: 34.99 PLN. Waga: 10 kg.\n"
          ],
          "name": "stdout"
        }
      ]
    },
    {
      "cell_type": "code",
      "metadata": {
        "id": "TrC_MsIdrW2u",
        "colab_type": "code",
        "colab": {}
      },
      "source": [
        ""
      ],
      "execution_count": null,
      "outputs": []
    },
    {
      "cell_type": "code",
      "metadata": {
        "id": "xu1hms4LrYxE",
        "colab_type": "code",
        "colab": {
          "base_uri": "https://localhost:8080/",
          "height": 34
        },
        "outputId": "785fc9b7-50eb-4717-b532-eb4d695b84e6"
      },
      "source": [
        "pi = 3.1415926535\n",
        "print(f'Przybliżenie liczby pi do części dziesiętnych: {pi:.2f}')"
      ],
      "execution_count": null,
      "outputs": [
        {
          "output_type": "stream",
          "text": [
            "Przybliżenie liczby pi do części dziesiętnych: 3.14\n"
          ],
          "name": "stdout"
        }
      ]
    },
    {
      "cell_type": "code",
      "metadata": {
        "id": "kFP_AMN8sBWI",
        "colab_type": "code",
        "colab": {
          "base_uri": "https://localhost:8080/",
          "height": 68
        },
        "outputId": "afc392c5-d184-4e00-e28e-f14092f1a301"
      },
      "source": [
        "print('-' * 40)\n",
        "print('WERSJA: 1.0.1')\n",
        "print('-' * 40)"
      ],
      "execution_count": null,
      "outputs": [
        {
          "output_type": "stream",
          "text": [
            "----------------------------------------\n",
            "WERSJA: 1.0.1\n",
            "----------------------------------------\n"
          ],
          "name": "stdout"
        }
      ]
    },
    {
      "cell_type": "code",
      "metadata": {
        "id": "o3qirelcsrec",
        "colab_type": "code",
        "colab": {
          "base_uri": "https://localhost:8080/",
          "height": 85
        },
        "outputId": "b6a7fd6e-1b15-40a0-998d-338261d69d95"
      },
      "source": [
        "print('=' * 40)\n",
        "print('autor: jannowak@poczta.com')\n",
        "print('data: 01-01-2021')\n",
        "print('=' * 40)"
      ],
      "execution_count": null,
      "outputs": [
        {
          "output_type": "stream",
          "text": [
            "========================================\n",
            "autor: jannowak@poczta.com\n",
            "data: 01-01-2021\n",
            "========================================\n"
          ],
          "name": "stdout"
        }
      ]
    },
    {
      "cell_type": "code",
      "metadata": {
        "id": "zqhyqo3zyXM4",
        "colab_type": "code",
        "colab": {}
      },
      "source": [
        ""
      ],
      "execution_count": null,
      "outputs": []
    },
    {
      "cell_type": "code",
      "metadata": {
        "id": "y3vUFlM7ycDw",
        "colab_type": "code",
        "colab": {
          "base_uri": "https://localhost:8080/",
          "height": 34
        },
        "outputId": "bd480680-ddf4-4b5e-d19b-ea8cb973e450"
      },
      "source": [
        "print('summer','time','holiday', sep='#')"
      ],
      "execution_count": null,
      "outputs": [
        {
          "output_type": "stream",
          "text": [
            "summer#time#holiday\n"
          ],
          "name": "stdout"
        }
      ]
    },
    {
      "cell_type": "code",
      "metadata": {
        "id": "1MqOzmjwzUsD",
        "colab_type": "code",
        "colab": {
          "base_uri": "https://localhost:8080/",
          "height": 34
        },
        "outputId": "1ceb5f4e-4537-43df-da4e-69e3c23ca611"
      },
      "source": [
        "pi = 3.14\n",
        "r = 5\n",
        "p = pi*r**2\n",
        "print(f'Pole koła wynosi {p} cm2' )"
      ],
      "execution_count": null,
      "outputs": [
        {
          "output_type": "stream",
          "text": [
            "Pole koła wynosi 78.5 cm2\n"
          ],
          "name": "stdout"
        }
      ]
    },
    {
      "cell_type": "code",
      "metadata": {
        "id": "_vGWz26VAYMz",
        "colab_type": "code",
        "colab": {
          "base_uri": "https://localhost:8080/",
          "height": 34
        },
        "outputId": "3d647a9e-be10-485d-aa18-ad906abd8e87"
      },
      "source": [
        "a = 1000\n",
        "b = 1.03\n",
        "c = 5\n",
        "d = a*b**c\n",
        "print(f'Wartość końcowa inwestycji wynosi: {d:.2f} PLN')\n"
      ],
      "execution_count": null,
      "outputs": [
        {
          "output_type": "stream",
          "text": [
            "Wartość końcowa inwestycji wynosi: 1159.27 PLN\n"
          ],
          "name": "stdout"
        }
      ]
    },
    {
      "cell_type": "code",
      "metadata": {
        "id": "Rh06SO57Bm4j",
        "colab_type": "code",
        "colab": {
          "base_uri": "https://localhost:8080/",
          "height": 34
        },
        "outputId": "7d187c15-48d8-4ba2-8581-48272d92f7b2"
      },
      "source": [
        "a= 3\n",
        "b = -4\n",
        "c = 1\n",
        "d = b**2 - 4*a*c\n",
        "print(f'Delta wynosi: {d}')\n"
      ],
      "execution_count": null,
      "outputs": [
        {
          "output_type": "stream",
          "text": [
            "Delta wynosi: 4\n"
          ],
          "name": "stdout"
        }
      ]
    },
    {
      "cell_type": "code",
      "metadata": {
        "id": "KRgjr3dYCz35",
        "colab_type": "code",
        "colab": {
          "base_uri": "https://localhost:8080/",
          "height": 34
        },
        "outputId": "3f6d5e81-35e5-49ec-d42c-b03ac89f6d86"
      },
      "source": [
        "a1 = 14\n",
        "a10 = 50\n",
        "s10 = ((a1 +a10)/2) * 10\n",
        "print(f'Suma pierwszysch 10 wyrazów ciągu wynosi: {s10}')"
      ],
      "execution_count": null,
      "outputs": [
        {
          "output_type": "stream",
          "text": [
            "Suma pierwszysch 10 wyrazów ciągu wynosi: 320.0\n"
          ],
          "name": "stdout"
        }
      ]
    },
    {
      "cell_type": "code",
      "metadata": {
        "id": "nqp12KY8DhEb",
        "colab_type": "code",
        "colab": {
          "base_uri": "https://localhost:8080/",
          "height": 34
        },
        "outputId": "80cd583d-b328-4922-bb58-63c96b90ca3a"
      },
      "source": [
        "a1 = 8\n",
        "q = 2\n",
        "s6 =a1* (1-q**6)/(1 - q)\n",
        "print(f'Suma pierwszych 6 wyrazów ciągu wynosi: {s6}')"
      ],
      "execution_count": null,
      "outputs": [
        {
          "output_type": "stream",
          "text": [
            "Suma pierwszych 6 wyrazów ciągu wynosi: 504.0\n"
          ],
          "name": "stdout"
        }
      ]
    },
    {
      "cell_type": "code",
      "metadata": {
        "id": "PPmFe4h4J75J",
        "colab_type": "code",
        "colab": {
          "base_uri": "https://localhost:8080/",
          "height": 34
        },
        "outputId": "8ee5113f-6bd0-412c-ab9a-5c1cdc873d03"
      },
      "source": [
        "x1, x2, x3 = 10, 11, 9\n",
        "mean = (x1 + x2 + x3) / 3.0\n",
        "var = ((x1 - mean)**2 + (x2 - mean)**2 + (x3 - mean)**2) / 3.0\n",
        "std = var**(1/2)\n",
        "print(f'Odchylenie standardowe zestawu danych wynosi: {std:.2f}')"
      ],
      "execution_count": null,
      "outputs": [
        {
          "output_type": "stream",
          "text": [
            "Odchylenie standardowe zestawu danych wynosi: 0.82\n"
          ],
          "name": "stdout"
        }
      ]
    },
    {
      "cell_type": "code",
      "metadata": {
        "id": "R7WrMzUGKHrz",
        "colab_type": "code",
        "colab": {}
      },
      "source": [
        ""
      ],
      "execution_count": null,
      "outputs": []
    }
  ]
}