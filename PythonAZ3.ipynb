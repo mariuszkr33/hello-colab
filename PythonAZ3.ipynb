{
  "nbformat": 4,
  "nbformat_minor": 0,
  "metadata": {
    "colab": {
      "name": "PythonAZ3.ipynb",
      "provenance": [],
      "collapsed_sections": [],
      "authorship_tag": "ABX9TyPeaewxwkhQV6CkYkqjaiVB",
      "include_colab_link": true
    },
    "kernelspec": {
      "name": "python3",
      "display_name": "Python 3"
    }
  },
  "cells": [
    {
      "cell_type": "markdown",
      "metadata": {
        "id": "view-in-github",
        "colab_type": "text"
      },
      "source": [
        "<a href=\"https://colab.research.google.com/github/mariuszkr33/hello-colab/blob/master/PythonAZ3.ipynb\" target=\"_parent\"><img src=\"https://colab.research.google.com/assets/colab-badge.svg\" alt=\"Open In Colab\"/></a>"
      ]
    },
    {
      "cell_type": "code",
      "metadata": {
        "id": "0L_jtuhSDFU0",
        "colab_type": "code",
        "colab": {}
      },
      "source": [
        "with open('data.txt', 'r') as file:\n",
        "    for line in file:\n",
        "        print(line, end='')"
      ],
      "execution_count": null,
      "outputs": []
    },
    {
      "cell_type": "code",
      "metadata": {
        "id": "5g3KKMXYDLBa",
        "colab_type": "code",
        "colab": {}
      },
      "source": [
        "with open('data.txt', 'r') as file:\n",
        "    data = file.readlines()\n",
        "    \n",
        "print(data)"
      ],
      "execution_count": null,
      "outputs": []
    },
    {
      "cell_type": "code",
      "metadata": {
        "id": "1QqP_E1IDN8y",
        "colab_type": "code",
        "colab": {}
      },
      "source": [
        "techs = ['python', 'java', 'sql', 'sas']\n",
        "with open('techs.txt', 'w') as file:\n",
        "    for tech in techs:\n",
        "        print(tech, file=file)"
      ],
      "execution_count": null,
      "outputs": []
    },
    {
      "cell_type": "code",
      "metadata": {
        "id": "PD1wyWsPDh6w",
        "colab_type": "code",
        "colab": {}
      },
      "source": [
        ""
      ],
      "execution_count": null,
      "outputs": []
    }
  ]
}